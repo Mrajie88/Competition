{
  "nbformat": 4,
  "nbformat_minor": 0,
  "metadata": {
    "colab": {
      "name": "competition.ipynb",
      "provenance": [],
      "toc_visible": true
    },
    "kernelspec": {
      "name": "python3",
      "display_name": "Python 3"
    },
    "accelerator": "GPU"
  },
  "cells": [
    {
      "cell_type": "code",
      "metadata": {
        "id": "57iu6KbhxqAH",
        "colab_type": "code",
        "colab": {}
      },
      "source": [
        "import pandas as pd\n",
        "import numpy as np\n",
        "from matplotlib import pyplot as plt\n",
        "from sklearn.metrics import f1_score\n",
        "from sklearn.model_selection import train_test_split\n",
        "import lightgbm as lgb\n",
        "import time\n",
        "import torch\n",
        "from mpl_toolkits.mplot3d import Axes3D\n",
        "import os"
      ],
      "execution_count": 0,
      "outputs": []
    },
    {
      "cell_type": "code",
      "metadata": {
        "id": "d6UOL4fWay8W",
        "colab_type": "code",
        "outputId": "cae74f96-2ac1-4a57-82a1-0a8ea2533860",
        "colab": {
          "base_uri": "https://localhost:8080/",
          "height": 35
        }
      },
      "source": [
        "print(\"cpu\" if not torch.cuda.is_available() else torch.cuda.get_device_name())"
      ],
      "execution_count": 3,
      "outputs": [
        {
          "output_type": "stream",
          "text": [
            "cpu\n"
          ],
          "name": "stdout"
        }
      ]
    },
    {
      "cell_type": "code",
      "metadata": {
        "id": "lyzuhz-JCCp1",
        "colab_type": "code",
        "colab": {}
      },
      "source": [
        "path = \"/content/drive/My Drive/\"\n",
        "train_df_source = pd.read_csv(path+'train.csv')\n",
        "test_df_source = pd.read_csv(path+'test.csv')\n",
        "event_df_source = pd.read_csv(path+'event.csv')"
      ],
      "execution_count": 0,
      "outputs": []
    },
    {
      "cell_type": "code",
      "metadata": {
        "id": "czccclZ0Dnf4",
        "colab_type": "code",
        "colab": {}
      },
      "source": [
        "def f_eng(df, event_df, is_train=True):\n",
        "    df = pd.merge(df, event_df.loc[:, ['event_id', 'energymc', 'thetamc', 'phimc', 'xcmc', 'ycmc']], how='left',\n",
        "                  on='event_id')\n",
        "    # df['dis'] = np.sqrt(df['x']**2+df['y']**2+df['t']**2)\n",
        "    # 时间差\n",
        "    df['t_o']=df['t']-df['terror']\n",
        "\n",
        "    df['q_mean'] = df['q']-df['q'].groupby(df['event_id']).transform(np.mean)\n",
        "    df['t_mean'] = df['t']-df['t'].groupby(df['event_id']).transform(np.mean)\n",
        "    df['t_std'] = df[\"t\"].groupby(df[\"event_id\"]).transform(np.std)\n",
        "    df['t_ptp'] = df[\"t\"].groupby(df[\"event_id\"]).transform(np.ptp)\n",
        "    df[\"x_xcmc\"] = df[\"x\"]-df[\"xcmc\"]\n",
        "    df[\"y_ycmc\"] = df[\"y\"] - df[\"ycmc\"]\n",
        "    df[\"dis\"] = np.sqrt(df[\"x_xcmc\"] ** 2+df[\"y_ycmc\"] ** 2 +df[\"t\"] ** 2)\n",
        "    \n",
        "    if is_train:\n",
        "        df = df.drop('flag', axis=1)\n",
        "    df = df.drop(['hit_id', 'z', 'event_id'], axis=1)\n",
        "    return df"
      ],
      "execution_count": 0,
      "outputs": []
    },
    {
      "cell_type": "code",
      "metadata": {
        "id": "1JpF3-5BDukX",
        "colab_type": "code",
        "outputId": "7c707ebe-903f-4a17-d73a-5097793774c3",
        "colab": {
          "base_uri": "https://localhost:8080/",
          "height": 71
        }
      },
      "source": [
        "labels = train_df_source['flag']\n",
        "train_df = f_eng(train_df_source, event_df_source)\n",
        "test_df = f_eng(test_df_source, event_df_source, False)\n",
        "print(train_df.columns.values.tolist())\n",
        "# 小样本训练\n",
        "train_df = train_df.iloc[:10000000, :]\n",
        "labels = labels[:10000000]\n",
        "\n",
        "train_x, val_x, train_y, val_y = train_test_split(train_df, labels, test_size=0.33, random_state=42)"
      ],
      "execution_count": 6,
      "outputs": [
        {
          "output_type": "stream",
          "text": [
            "/usr/local/lib/python3.6/dist-packages/numpy/core/fromnumeric.py:2495: FutureWarning: Method .ptp is deprecated and will be removed in a future version. Use numpy.ptp instead.\n",
            "  return ptp(axis=axis, out=out, **kwargs)\n"
          ],
          "name": "stderr"
        },
        {
          "output_type": "stream",
          "text": [
            "['x', 'y', 't', 'terror', 'q', 'energymc', 'thetamc', 'phimc', 'xcmc', 'ycmc', 't_o', 'q_mean', 't_mean', 't_std', 't_ptp', 'x_xcmc', 'y_ycmc', 'dis']\n"
          ],
          "name": "stdout"
        }
      ]
    },
    {
      "cell_type": "code",
      "metadata": {
        "id": "I8gMVCI5Dzad",
        "colab_type": "code",
        "colab": {}
      },
      "source": [
        "fea_imp_list = []\n",
        "params = {\n",
        "    \"task\":\"train\",\n",
        "    \"boosting_type\":\"gbdt\",\n",
        "    \"metric\":\"auc\",\n",
        "    \"num_leaves\":255,\n",
        "    \"learning_rate\":0.01,\n",
        "    \"feature_fraction\":0.9,\n",
        "    \"bagging_fraction\":0.8,\n",
        "    \"verbose\":50\n",
        "}"
      ],
      "execution_count": 0,
      "outputs": []
    },
    {
      "cell_type": "code",
      "metadata": {
        "id": "2LUaRN5apWuS",
        "colab_type": "code",
        "colab": {
          "base_uri": "https://localhost:8080/",
          "height": 377
        },
        "outputId": "9fefcf6c-e45f-4999-c049-3f097469d906"
      },
      "source": [
        "gbm = None\n",
        "with open(\"/content/drive/My Drive/lgb_model.txt\",\"r\") as f:\n",
        "  gbm = lgb.Booster({'model_str': f.read()})\n",
        "type(gbm)"
      ],
      "execution_count": 17,
      "outputs": [
        {
          "output_type": "error",
          "ename": "LightGBMError",
          "evalue": "ignored",
          "traceback": [
            "\u001b[0;31m---------------------------------------------------------------------------\u001b[0m",
            "\u001b[0;31mLightGBMError\u001b[0m                             Traceback (most recent call last)",
            "\u001b[0;32m<ipython-input-17-1b6410f980a0>\u001b[0m in \u001b[0;36m<module>\u001b[0;34m()\u001b[0m\n\u001b[1;32m      1\u001b[0m \u001b[0mgbm\u001b[0m \u001b[0;34m=\u001b[0m \u001b[0;32mNone\u001b[0m\u001b[0;34m\u001b[0m\u001b[0;34m\u001b[0m\u001b[0m\n\u001b[1;32m      2\u001b[0m \u001b[0;32mwith\u001b[0m \u001b[0mopen\u001b[0m\u001b[0;34m(\u001b[0m\u001b[0;34m\"/content/drive/My Drive/lgb_model.txt\"\u001b[0m\u001b[0;34m,\u001b[0m\u001b[0;34m\"r\"\u001b[0m\u001b[0;34m)\u001b[0m \u001b[0;32mas\u001b[0m \u001b[0mf\u001b[0m\u001b[0;34m:\u001b[0m\u001b[0;34m\u001b[0m\u001b[0;34m\u001b[0m\u001b[0m\n\u001b[0;32m----> 3\u001b[0;31m   \u001b[0mgbm\u001b[0m \u001b[0;34m=\u001b[0m \u001b[0mlgb\u001b[0m\u001b[0;34m.\u001b[0m\u001b[0mBooster\u001b[0m\u001b[0;34m(\u001b[0m\u001b[0;34m{\u001b[0m\u001b[0;34m'model_str'\u001b[0m\u001b[0;34m:\u001b[0m \u001b[0mf\u001b[0m\u001b[0;34m.\u001b[0m\u001b[0mread\u001b[0m\u001b[0;34m(\u001b[0m\u001b[0;34m)\u001b[0m\u001b[0;34m}\u001b[0m\u001b[0;34m)\u001b[0m\u001b[0;34m\u001b[0m\u001b[0;34m\u001b[0m\u001b[0m\n\u001b[0m\u001b[1;32m      4\u001b[0m \u001b[0mtype\u001b[0m\u001b[0;34m(\u001b[0m\u001b[0mgbm\u001b[0m\u001b[0;34m)\u001b[0m\u001b[0;34m\u001b[0m\u001b[0;34m\u001b[0m\u001b[0m\n",
            "\u001b[0;32m/usr/local/lib/python3.6/dist-packages/lightgbm/basic.py\u001b[0m in \u001b[0;36m__init__\u001b[0;34m(self, params, train_set, model_file, silent)\u001b[0m\n\u001b[1;32m   1588\u001b[0m             \u001b[0mself\u001b[0m\u001b[0;34m.\u001b[0m\u001b[0mpandas_categorical\u001b[0m \u001b[0;34m=\u001b[0m \u001b[0m_load_pandas_categorical\u001b[0m\u001b[0;34m(\u001b[0m\u001b[0mfile_name\u001b[0m\u001b[0;34m=\u001b[0m\u001b[0mmodel_file\u001b[0m\u001b[0;34m)\u001b[0m\u001b[0;34m\u001b[0m\u001b[0;34m\u001b[0m\u001b[0m\n\u001b[1;32m   1589\u001b[0m         \u001b[0;32melif\u001b[0m \u001b[0;34m'model_str'\u001b[0m \u001b[0;32min\u001b[0m \u001b[0mparams\u001b[0m\u001b[0;34m:\u001b[0m\u001b[0;34m\u001b[0m\u001b[0;34m\u001b[0m\u001b[0m\n\u001b[0;32m-> 1590\u001b[0;31m             \u001b[0mself\u001b[0m\u001b[0;34m.\u001b[0m\u001b[0mmodel_from_string\u001b[0m\u001b[0;34m(\u001b[0m\u001b[0mparams\u001b[0m\u001b[0;34m[\u001b[0m\u001b[0;34m'model_str'\u001b[0m\u001b[0;34m]\u001b[0m\u001b[0;34m,\u001b[0m \u001b[0;32mFalse\u001b[0m\u001b[0;34m)\u001b[0m\u001b[0;34m\u001b[0m\u001b[0;34m\u001b[0m\u001b[0m\n\u001b[0m\u001b[1;32m   1591\u001b[0m         \u001b[0;32melse\u001b[0m\u001b[0;34m:\u001b[0m\u001b[0;34m\u001b[0m\u001b[0;34m\u001b[0m\u001b[0m\n\u001b[1;32m   1592\u001b[0m             \u001b[0;32mraise\u001b[0m \u001b[0mTypeError\u001b[0m\u001b[0;34m(\u001b[0m\u001b[0;34m'Need at least one training dataset or model file to create booster instance'\u001b[0m\u001b[0;34m)\u001b[0m\u001b[0;34m\u001b[0m\u001b[0;34m\u001b[0m\u001b[0m\n",
            "\u001b[0;32m/usr/local/lib/python3.6/dist-packages/lightgbm/basic.py\u001b[0m in \u001b[0;36mmodel_from_string\u001b[0;34m(self, model_str, verbose)\u001b[0m\n\u001b[1;32m   2052\u001b[0m             \u001b[0mc_str\u001b[0m\u001b[0;34m(\u001b[0m\u001b[0mmodel_str\u001b[0m\u001b[0;34m)\u001b[0m\u001b[0;34m,\u001b[0m\u001b[0;34m\u001b[0m\u001b[0;34m\u001b[0m\u001b[0m\n\u001b[1;32m   2053\u001b[0m             \u001b[0mctypes\u001b[0m\u001b[0;34m.\u001b[0m\u001b[0mbyref\u001b[0m\u001b[0;34m(\u001b[0m\u001b[0mout_num_iterations\u001b[0m\u001b[0;34m)\u001b[0m\u001b[0;34m,\u001b[0m\u001b[0;34m\u001b[0m\u001b[0;34m\u001b[0m\u001b[0m\n\u001b[0;32m-> 2054\u001b[0;31m             ctypes.byref(self.handle)))\n\u001b[0m\u001b[1;32m   2055\u001b[0m         \u001b[0mout_num_class\u001b[0m \u001b[0;34m=\u001b[0m \u001b[0mctypes\u001b[0m\u001b[0;34m.\u001b[0m\u001b[0mc_int\u001b[0m\u001b[0;34m(\u001b[0m\u001b[0;36m0\u001b[0m\u001b[0;34m)\u001b[0m\u001b[0;34m\u001b[0m\u001b[0;34m\u001b[0m\u001b[0m\n\u001b[1;32m   2056\u001b[0m         _safe_call(_LIB.LGBM_BoosterGetNumClasses(\n",
            "\u001b[0;32m/usr/local/lib/python3.6/dist-packages/lightgbm/basic.py\u001b[0m in \u001b[0;36m_safe_call\u001b[0;34m(ret)\u001b[0m\n\u001b[1;32m     44\u001b[0m     \"\"\"\n\u001b[1;32m     45\u001b[0m     \u001b[0;32mif\u001b[0m \u001b[0mret\u001b[0m \u001b[0;34m!=\u001b[0m \u001b[0;36m0\u001b[0m\u001b[0;34m:\u001b[0m\u001b[0;34m\u001b[0m\u001b[0;34m\u001b[0m\u001b[0m\n\u001b[0;32m---> 46\u001b[0;31m         \u001b[0;32mraise\u001b[0m \u001b[0mLightGBMError\u001b[0m\u001b[0;34m(\u001b[0m\u001b[0mdecode_string\u001b[0m\u001b[0;34m(\u001b[0m\u001b[0m_LIB\u001b[0m\u001b[0;34m.\u001b[0m\u001b[0mLGBM_GetLastError\u001b[0m\u001b[0;34m(\u001b[0m\u001b[0;34m)\u001b[0m\u001b[0;34m)\u001b[0m\u001b[0;34m)\u001b[0m\u001b[0;34m\u001b[0m\u001b[0;34m\u001b[0m\u001b[0m\n\u001b[0m\u001b[1;32m     47\u001b[0m \u001b[0;34m\u001b[0m\u001b[0m\n\u001b[1;32m     48\u001b[0m \u001b[0;34m\u001b[0m\u001b[0m\n",
            "\u001b[0;31mLightGBMError\u001b[0m: Model file doesn't specify the number of classes"
          ]
        }
      ]
    },
    {
      "cell_type": "code",
      "metadata": {
        "id": "YVy1F1wuD5cU",
        "colab_type": "code",
        "outputId": "d60a20b7-5bb8-4586-aa9d-f7fe3b370cf1",
        "colab": {
          "base_uri": "https://localhost:8080/",
          "height": 917
        }
      },
      "source": [
        "batch_size = 20\n",
        "gbm = None\n",
        "with open(\"/content/drive/My Drive/lgb_model_v20.txt\",\"r\") as f:\n",
        "  gbm = lgb.Booster({'model_str':f.read()})\n",
        "max_len = 0\n",
        "for i in range(2,len(train_x),batch_size):\n",
        "  if i+ batch_size >len(train_x):\n",
        "    max_len = batch_size\n",
        "  else:\n",
        "    max_len = len(train_x)-i-1\n",
        "  print(\"=========================================================数据准备======================================================================================\")\n",
        "  lgb_train = lgb.Dataset(train_x.iloc[i:i+max_len,:],train_y.iloc[i:i+max_len])\n",
        "  lgb_test = lgb.Dataset(val_x,val_y,reference = lgb_train)\n",
        "  print(\"=========================================================模型训练======================================================================================\")\n",
        "  gbm = lgb.train(params,lgb_train,num_boost_round=100,init_model = gbm,valid_sets = lgb_test,early_stopping_rounds = 20,keep_training_booster=True)\n",
        "  gbm.save_model(\"/content/drive/My Drive/lgb_model_v\"+str(i//batch_size)+\".txt\")\n",
        "  print(\"============================================================模型训练完成===========================================================================================\")\n",
        "fea_imp_list.append(gbm.feature_importances_)"
      ],
      "execution_count": 15,
      "outputs": [
        {
          "output_type": "stream",
          "text": [
            "=========================================================数据准备======================================================================================\n",
            "=========================================================模型训练======================================================================================\n",
            "[133]\tvalid_0's auc: 0.982769\n",
            "Training until validation scores don't improve for 20 rounds.\n",
            "[134]\tvalid_0's auc: 0.982783\n",
            "[135]\tvalid_0's auc: 0.982799\n",
            "[136]\tvalid_0's auc: 0.982846\n",
            "[137]\tvalid_0's auc: 0.98287\n",
            "[138]\tvalid_0's auc: 0.982889\n",
            "[139]\tvalid_0's auc: 0.982897\n",
            "[140]\tvalid_0's auc: 0.982916\n",
            "[141]\tvalid_0's auc: 0.982932\n",
            "[142]\tvalid_0's auc: 0.982954\n",
            "[143]\tvalid_0's auc: 0.983005\n",
            "[144]\tvalid_0's auc: 0.983019\n",
            "[145]\tvalid_0's auc: 0.983031\n",
            "[146]\tvalid_0's auc: 0.983043\n",
            "[147]\tvalid_0's auc: 0.98308\n",
            "[148]\tvalid_0's auc: 0.983099\n",
            "[149]\tvalid_0's auc: 0.98312\n",
            "[150]\tvalid_0's auc: 0.983131\n",
            "[151]\tvalid_0's auc: 0.983149\n",
            "[152]\tvalid_0's auc: 0.983176\n",
            "[153]\tvalid_0's auc: 0.983197\n",
            "[154]\tvalid_0's auc: 0.983213\n",
            "[155]\tvalid_0's auc: 0.983222\n",
            "[156]\tvalid_0's auc: 0.983272\n",
            "[157]\tvalid_0's auc: 0.98329\n",
            "[158]\tvalid_0's auc: 0.983306\n"
          ],
          "name": "stdout"
        },
        {
          "output_type": "error",
          "ename": "KeyboardInterrupt",
          "evalue": "ignored",
          "traceback": [
            "\u001b[0;31m---------------------------------------------------------------------------\u001b[0m",
            "\u001b[0;31mKeyboardInterrupt\u001b[0m                         Traceback (most recent call last)",
            "\u001b[0;32m<ipython-input-15-049ee81024be>\u001b[0m in \u001b[0;36m<module>\u001b[0;34m()\u001b[0m\n\u001b[1;32m     13\u001b[0m   \u001b[0mlgb_test\u001b[0m \u001b[0;34m=\u001b[0m \u001b[0mlgb\u001b[0m\u001b[0;34m.\u001b[0m\u001b[0mDataset\u001b[0m\u001b[0;34m(\u001b[0m\u001b[0mval_x\u001b[0m\u001b[0;34m,\u001b[0m\u001b[0mval_y\u001b[0m\u001b[0;34m,\u001b[0m\u001b[0mreference\u001b[0m \u001b[0;34m=\u001b[0m \u001b[0mlgb_train\u001b[0m\u001b[0;34m)\u001b[0m\u001b[0;34m\u001b[0m\u001b[0;34m\u001b[0m\u001b[0m\n\u001b[1;32m     14\u001b[0m   \u001b[0mprint\u001b[0m\u001b[0;34m(\u001b[0m\u001b[0;34m\"=========================================================模型训练======================================================================================\"\u001b[0m\u001b[0;34m)\u001b[0m\u001b[0;34m\u001b[0m\u001b[0;34m\u001b[0m\u001b[0m\n\u001b[0;32m---> 15\u001b[0;31m   \u001b[0mgbm\u001b[0m \u001b[0;34m=\u001b[0m \u001b[0mlgb\u001b[0m\u001b[0;34m.\u001b[0m\u001b[0mtrain\u001b[0m\u001b[0;34m(\u001b[0m\u001b[0mparams\u001b[0m\u001b[0;34m,\u001b[0m\u001b[0mlgb_train\u001b[0m\u001b[0;34m,\u001b[0m\u001b[0mnum_boost_round\u001b[0m\u001b[0;34m=\u001b[0m\u001b[0;36m100\u001b[0m\u001b[0;34m,\u001b[0m\u001b[0minit_model\u001b[0m \u001b[0;34m=\u001b[0m \u001b[0mgbm\u001b[0m\u001b[0;34m,\u001b[0m\u001b[0mvalid_sets\u001b[0m \u001b[0;34m=\u001b[0m \u001b[0mlgb_test\u001b[0m\u001b[0;34m,\u001b[0m\u001b[0mearly_stopping_rounds\u001b[0m \u001b[0;34m=\u001b[0m \u001b[0;36m20\u001b[0m\u001b[0;34m,\u001b[0m\u001b[0mkeep_training_booster\u001b[0m\u001b[0;34m=\u001b[0m\u001b[0;32mTrue\u001b[0m\u001b[0;34m)\u001b[0m\u001b[0;34m\u001b[0m\u001b[0;34m\u001b[0m\u001b[0m\n\u001b[0m\u001b[1;32m     16\u001b[0m   \u001b[0mgbm\u001b[0m\u001b[0;34m.\u001b[0m\u001b[0msave_model\u001b[0m\u001b[0;34m(\u001b[0m\u001b[0;34m\"/content/drive/My Drive/lgb_model_v\"\u001b[0m\u001b[0;34m+\u001b[0m\u001b[0mstr\u001b[0m\u001b[0;34m(\u001b[0m\u001b[0mi\u001b[0m\u001b[0;34m)\u001b[0m\u001b[0;34m+\u001b[0m\u001b[0;34m\".txt\"\u001b[0m\u001b[0;34m)\u001b[0m\u001b[0;34m\u001b[0m\u001b[0;34m\u001b[0m\u001b[0m\n\u001b[1;32m     17\u001b[0m   \u001b[0mprint\u001b[0m\u001b[0;34m(\u001b[0m\u001b[0;34m\"============================================================模型训练完成===========================================================================================\"\u001b[0m\u001b[0;34m)\u001b[0m\u001b[0;34m\u001b[0m\u001b[0;34m\u001b[0m\u001b[0m\n",
            "\u001b[0;32m/usr/local/lib/python3.6/dist-packages/lightgbm/engine.py\u001b[0m in \u001b[0;36mtrain\u001b[0;34m(params, train_set, num_boost_round, valid_sets, valid_names, fobj, feval, init_model, feature_name, categorical_feature, early_stopping_rounds, evals_result, verbose_eval, learning_rates, keep_training_booster, callbacks)\u001b[0m\n\u001b[1;32m    216\u001b[0m                                     evaluation_result_list=None))\n\u001b[1;32m    217\u001b[0m \u001b[0;34m\u001b[0m\u001b[0m\n\u001b[0;32m--> 218\u001b[0;31m         \u001b[0mbooster\u001b[0m\u001b[0;34m.\u001b[0m\u001b[0mupdate\u001b[0m\u001b[0;34m(\u001b[0m\u001b[0mfobj\u001b[0m\u001b[0;34m=\u001b[0m\u001b[0mfobj\u001b[0m\u001b[0;34m)\u001b[0m\u001b[0;34m\u001b[0m\u001b[0;34m\u001b[0m\u001b[0m\n\u001b[0m\u001b[1;32m    219\u001b[0m \u001b[0;34m\u001b[0m\u001b[0m\n\u001b[1;32m    220\u001b[0m         \u001b[0mevaluation_result_list\u001b[0m \u001b[0;34m=\u001b[0m \u001b[0;34m[\u001b[0m\u001b[0;34m]\u001b[0m\u001b[0;34m\u001b[0m\u001b[0;34m\u001b[0m\u001b[0m\n",
            "\u001b[0;32m/usr/local/lib/python3.6/dist-packages/lightgbm/basic.py\u001b[0m in \u001b[0;36mupdate\u001b[0;34m(self, train_set, fobj)\u001b[0m\n\u001b[1;32m   1800\u001b[0m             _safe_call(_LIB.LGBM_BoosterUpdateOneIter(\n\u001b[1;32m   1801\u001b[0m                 \u001b[0mself\u001b[0m\u001b[0;34m.\u001b[0m\u001b[0mhandle\u001b[0m\u001b[0;34m,\u001b[0m\u001b[0;34m\u001b[0m\u001b[0;34m\u001b[0m\u001b[0m\n\u001b[0;32m-> 1802\u001b[0;31m                 ctypes.byref(is_finished)))\n\u001b[0m\u001b[1;32m   1803\u001b[0m             \u001b[0mself\u001b[0m\u001b[0;34m.\u001b[0m\u001b[0m__is_predicted_cur_iter\u001b[0m \u001b[0;34m=\u001b[0m \u001b[0;34m[\u001b[0m\u001b[0;32mFalse\u001b[0m \u001b[0;32mfor\u001b[0m \u001b[0m_\u001b[0m \u001b[0;32min\u001b[0m \u001b[0mrange_\u001b[0m\u001b[0;34m(\u001b[0m\u001b[0mself\u001b[0m\u001b[0;34m.\u001b[0m\u001b[0m__num_dataset\u001b[0m\u001b[0;34m)\u001b[0m\u001b[0;34m]\u001b[0m\u001b[0;34m\u001b[0m\u001b[0;34m\u001b[0m\u001b[0m\n\u001b[1;32m   1804\u001b[0m             \u001b[0;32mreturn\u001b[0m \u001b[0mis_finished\u001b[0m\u001b[0;34m.\u001b[0m\u001b[0mvalue\u001b[0m \u001b[0;34m==\u001b[0m \u001b[0;36m1\u001b[0m\u001b[0;34m\u001b[0m\u001b[0;34m\u001b[0m\u001b[0m\n",
            "\u001b[0;31mKeyboardInterrupt\u001b[0m: "
          ]
        }
      ]
    },
    {
      "cell_type": "code",
      "metadata": {
        "id": "Fx_ci391E1qD",
        "colab_type": "code",
        "outputId": "c95f975b-bfb4-476a-fe06-f841617b8209",
        "colab": {
          "base_uri": "https://localhost:8080/",
          "height": 53
        }
      },
      "source": [
        "t = time.time()\n",
        "test_pre = pd.DataFrame(gbm.predict(test_df)[:, 1], columns=['flag_pred'])\n",
        "print('test_pre runtime:', time.time() - t)\n",
        "sub = pd.concat([test_df_source['hit_id'], test_pre,test_df_source['event_id']], axis=1)\n",
        "fea_imp_list.append(clf.feature_importances_)\n",
        "print('runtime:', time.time() - t)"
      ],
      "execution_count": 0,
      "outputs": [
        {
          "output_type": "stream",
          "text": [
            "test_pre runtime: 29222.276727199554\n",
            "runtime: 29222.325490951538\n"
          ],
          "name": "stdout"
        }
      ]
    },
    {
      "cell_type": "code",
      "metadata": {
        "id": "rldwaf95E5oU",
        "colab_type": "code",
        "outputId": "7cae2ebb-c804-4e72-fcec-e75ad22ef203",
        "colab": {
          "base_uri": "https://localhost:8080/",
          "height": 287
        }
      },
      "source": [
        "# 特征重要性\n",
        "fea_imp_dict = dict(zip(train_df.columns.values, np.mean(fea_imp_list, axis=0)))\n",
        "fea_imp_item = sorted(fea_imp_dict.items(), key=lambda x: x[1], reverse=True)\n",
        "for f, imp in fea_imp_item:\n",
        "    print('{} = {}'.format(f, imp))"
      ],
      "execution_count": 0,
      "outputs": [
        {
          "output_type": "stream",
          "text": [
            "t_mean = 256190.5\n",
            "x = 243347.5\n",
            "q = 232606.0\n",
            "y = 227337.0\n",
            "xcmc = 197625.5\n",
            "thetamc = 175456.0\n",
            "ycmc = 166372.0\n",
            "t = 158382.0\n",
            "q_mean = 157676.0\n",
            "t_std = 142223.0\n",
            "energymc = 130269.0\n",
            "t_ptp = 123347.0\n",
            "t_o = 119587.5\n",
            "terror = 116736.5\n",
            "phimc = 92844.5\n"
          ],
          "name": "stdout"
        }
      ]
    },
    {
      "cell_type": "code",
      "metadata": {
        "id": "Vchh8iC5FG8u",
        "colab_type": "code",
        "outputId": "1589171a-3f45-4a60-ceba-fb438b70a809",
        "colab": {
          "base_uri": "https://localhost:8080/",
          "height": 53
        }
      },
      "source": [
        "# sub.to_csv('drive/My Drive/sub_prob_{}_{}_{}.csv'.format(best_auc, best_f1,sub['flag_pred'].mean()),index=False)\n",
        "sub['flag_pred'] = sub['flag_pred'].apply(lambda x: 1 if x >= best_t else 0)\n",
        "sub.to_csv('drive/My Drive/submition_{}_{}.csv'.format(time.asctime( time.localtime(time.time()) ),sub['flag_pred'].mean()),index=False)\n",
        "\n",
        "print('runtime:', time.time() - t)\n",
        "print('finish.')"
      ],
      "execution_count": 0,
      "outputs": [
        {
          "output_type": "stream",
          "text": [
            "runtime: 29252.052520036697\n",
            "finish.\n"
          ],
          "name": "stdout"
        }
      ]
    }
  ]
}