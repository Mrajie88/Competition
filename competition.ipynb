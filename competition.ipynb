{
  "nbformat": 4,
  "nbformat_minor": 0,
  "metadata": {
    "colab": {
      "name": "competition.ipynb",
      "provenance": [],
      "toc_visible": true,
      "mount_file_id": "1Vhu1RfmwL4yIzKb9MKpMT7hjFAwydO1H",
      "authorship_tag": "ABX9TyN9WW/KVq6lz/FgXVA0jJ5L",
      "include_colab_link": true
    },
    "kernelspec": {
      "name": "python3",
      "display_name": "Python 3"
    },
    "accelerator": "GPU"
  },
  "cells": [
    {
      "cell_type": "markdown",
      "metadata": {
        "id": "view-in-github",
        "colab_type": "text"
      },
      "source": [
        "<a href=\"https://colab.research.google.com/github/Mrajie88/Competition/blob/master/competition.ipynb\" target=\"_parent\"><img src=\"https://colab.research.google.com/assets/colab-badge.svg\" alt=\"Open In Colab\"/></a>"
      ]
    },
    {
      "cell_type": "code",
      "metadata": {
        "id": "57iu6KbhxqAH",
        "colab_type": "code",
        "colab": {}
      },
      "source": [
        "import pandas as pd\n",
        "import numpy as np\n",
        "from matplotlib import pyplot as plt\n",
        "from sklearn.metrics import f1_score\n",
        "from sklearn.model_selection import train_test_split\n",
        "import lightgbm as lgb\n",
        "import time\n",
        "import torch\n",
        "from mpl_toolkits.mplot3d import Axes3D\n",
        "import os"
      ],
      "execution_count": 0,
      "outputs": []
    },
    {
      "cell_type": "code",
      "metadata": {
        "id": "d6UOL4fWay8W",
        "colab_type": "code",
        "outputId": "383e961e-9fc9-4ac2-a561-89115e61bbd9",
        "colab": {
          "base_uri": "https://localhost:8080/",
          "height": 35
        }
      },
      "source": [
        "print(\"cpu\" if not torch.cuda.is_available() else torch.cuda.get_device_name())\n",
        "device = \"cpu\" if not torch.cuda.is_available() else \"gpu\""
      ],
      "execution_count": 9,
      "outputs": [
        {
          "output_type": "stream",
          "text": [
            "Tesla T4\n"
          ],
          "name": "stdout"
        }
      ]
    },
    {
      "cell_type": "code",
      "metadata": {
        "id": "lyzuhz-JCCp1",
        "colab_type": "code",
        "colab": {}
      },
      "source": [
        "path = \"/content/drive/My Drive/\"\n",
        "train_df_source = pd.read_csv(path+'train.csv')\n",
        "test_df_source = pd.read_csv(path+'test.csv')\n",
        "event_df_source = pd.read_csv(path+'event.csv')"
      ],
      "execution_count": 0,
      "outputs": []
    },
    {
      "cell_type": "code",
      "metadata": {
        "id": "czccclZ0Dnf4",
        "colab_type": "code",
        "colab": {}
      },
      "source": [
        "def f_eng(df, event_df, is_train=True):\n",
        "    df = pd.merge(df, event_df.loc[:, ['event_id', 'energymc', 'thetamc', 'phimc', 'xcmc', 'ycmc']], how='left',\n",
        "                  on='event_id')\n",
        "    # df['dis'] = np.sqrt(df['x']**2+df['y']**2+df['t']**2)\n",
        "    # 时间差\n",
        "    df['t_o']=df['t']-df['terror']\n",
        "\n",
        "    df['q_mean'] = df['q']-df['q'].groupby(df['event_id']).transform(np.mean)\n",
        "    df['t_mean'] = df['t']-df['t'].groupby(df['event_id']).transform(np.mean)\n",
        "    df['t_std'] = df[\"t\"].groupby(df[\"event_id\"]).transform(np.std)\n",
        "    df['t_ptp'] = df[\"t\"].groupby(df[\"event_id\"]).transform(np.ptp)\n",
        "    df[\"x_xcmc\"] = df[\"x\"]-df[\"xcmc\"]\n",
        "    df[\"y_ycmc\"] = df[\"y\"] - df[\"ycmc\"]\n",
        "    df[\"dis\"] = np.sqrt(df[\"x_xcmc\"] ** 2+df[\"y_ycmc\"] ** 2 +df[\"t\"] ** 2)\n",
        "    \n",
        "    if is_train:\n",
        "        df = df.drop('flag', axis=1)\n",
        "    df = df.drop(['hit_id', 'z', 'event_id'], axis=1)\n",
        "    return df"
      ],
      "execution_count": 0,
      "outputs": []
    },
    {
      "cell_type": "code",
      "metadata": {
        "id": "1JpF3-5BDukX",
        "colab_type": "code",
        "outputId": "d3c461a2-f22f-476f-cc47-5c9d92282888",
        "colab": {
          "base_uri": "https://localhost:8080/",
          "height": 91
        }
      },
      "source": [
        "labels = train_df_source['flag']\n",
        "train_df = f_eng(train_df_source, event_df_source)\n",
        "test_df = f_eng(test_df_source, event_df_source, False)\n",
        "print(train_df.columns.values.tolist())\n",
        "# 小样本训练\n",
        "train_df = train_df.iloc[:10000000, :]\n",
        "labels = labels[:10000000]\n",
        "\n",
        "train_x, val_x, train_y, val_y = train_test_split(train_df, labels, test_size=0.33, random_state=42)"
      ],
      "execution_count": 11,
      "outputs": [
        {
          "output_type": "stream",
          "text": [
            "/usr/local/lib/python3.6/dist-packages/numpy/core/fromnumeric.py:2495: FutureWarning: Method .ptp is deprecated and will be removed in a future version. Use numpy.ptp instead.\n",
            "  return ptp(axis=axis, out=out, **kwargs)\n"
          ],
          "name": "stderr"
        },
        {
          "output_type": "stream",
          "text": [
            "['x', 'y', 't', 'terror', 'q', 'energymc', 'thetamc', 'phimc', 'xcmc', 'ycmc', 't_o', 'q_mean', 't_mean', 't_std', 't_ptp', 'x_xcmc', 'y_ycmc', 'dis']\n"
          ],
          "name": "stdout"
        }
      ]
    },
    {
      "cell_type": "code",
      "metadata": {
        "id": "I8gMVCI5Dzad",
        "colab_type": "code",
        "colab": {}
      },
      "source": [
        "params = {\n",
        "    \"task\":\"train\",\n",
        "    \"boosting_type\":\"gbdt\",\n",
        "    \"metric\":\"auc\",\n",
        "    \"num_leaves\":255,\n",
        "    \"learning_rate\":0.01,\n",
        "    \"feature_fraction\":0.9,\n",
        "    \"bagging_fraction\":0.8,\n",
        "    \"verbose\":200,\n",
        "    \"num_thread\": 16,\n",
        "    \"num_interations\":10000,\n",
        "    \"early_stopping_round\":200\n",
        "}"
      ],
      "execution_count": 0,
      "outputs": []
    },
    {
      "cell_type": "code",
      "metadata": {
        "id": "YVy1F1wuD5cU",
        "colab_type": "code",
        "outputId": "a6412b06-0f60-4c88-b5d3-54c87290bbd3",
        "colab": {
          "base_uri": "https://localhost:8080/",
          "height": 1000
        }
      },
      "source": [
        "t = time.time()\n",
        "batch_size = 5000000\n",
        "gbm = None\n",
        "# 若采取增量训练 读取断点\n",
        "#with open(\"/content/drive/My Drive/lgb_model_v0.txt\",\"r\") as f:\n",
        "#  gbm = lgb.Booster({'model_str':f.read()})\n",
        "print(\"=========================================================模型读取成功======================================================================================\")\n",
        "max_len = 0\n",
        "for i in range(0*batch_size,len(train_x),batch_size):\n",
        "  if i+ batch_size >len(train_x):\n",
        "    max_len = batch_size\n",
        "  else:\n",
        "    max_len = len(train_x)-i-1\n",
        "  print(\"=========================================================数据准备======================================================================================\")\n",
        "  lgb_train = lgb.Dataset(train_x.iloc[i:i+max_len,:],train_y.iloc[i:i+max_len])\n",
        "  lgb_test = lgb.Dataset(val_x,val_y,reference = lgb_train)\n",
        "  print(\"=========================================================模型训练======================================================================================\")\n",
        "  gbm = lgb.train(params,lgb_train,init_model = gbm,valid_sets = lgb_test,keep_training_booster=True)\n",
        "  gbm.save_model(\"/content/drive/My Drive/lgb_model_v\"+str(i//batch_size)+\".txt\")\n",
        "  print(\"============================================================模型训练完成===========================================================================================\")\n",
        "period = time.time()\n",
        "result = pd.DataFrame(data = [[period,len(train_x),params[\"learning_rate\"],gbm.eval_valid()[0][2]]],index = None,columns=[\"time\",\"data_size\",\"learning_rate\",\"valid_eval\"])\n",
        "result.to_csv(\"experiment_record.csv\",mode = \"a+\")"
      ],
      "execution_count": 15,
      "outputs": [
        {
          "output_type": "stream",
          "text": [
            "=========================================================模型读取成功======================================================================================\n",
            "=========================================================数据准备======================================================================================\n",
            "=========================================================模型训练======================================================================================\n"
          ],
          "name": "stdout"
        },
        {
          "output_type": "stream",
          "text": [
            "/usr/local/lib/python3.6/dist-packages/lightgbm/engine.py:123: UserWarning: Found `early_stopping_round` in params. Will use it instead of argument\n",
            "  warnings.warn(\"Found `{}` in params. Will use it instead of argument\".format(alias))\n"
          ],
          "name": "stderr"
        },
        {
          "output_type": "stream",
          "text": [
            "[1]\tvalid_0's auc: 0.972701\n",
            "Training until validation scores don't improve for 200 rounds.\n",
            "[2]\tvalid_0's auc: 0.973855\n",
            "[3]\tvalid_0's auc: 0.975099\n",
            "[4]\tvalid_0's auc: 0.978933\n",
            "[5]\tvalid_0's auc: 0.978771\n",
            "[6]\tvalid_0's auc: 0.978836\n",
            "[7]\tvalid_0's auc: 0.978781\n",
            "[8]\tvalid_0's auc: 0.978727\n",
            "[9]\tvalid_0's auc: 0.978745\n",
            "[10]\tvalid_0's auc: 0.97865\n",
            "[11]\tvalid_0's auc: 0.979841\n",
            "[12]\tvalid_0's auc: 0.979843\n",
            "[13]\tvalid_0's auc: 0.979738\n",
            "[14]\tvalid_0's auc: 0.979754\n",
            "[15]\tvalid_0's auc: 0.979691\n",
            "[16]\tvalid_0's auc: 0.979635\n",
            "[17]\tvalid_0's auc: 0.979573\n",
            "[18]\tvalid_0's auc: 0.979633\n",
            "[19]\tvalid_0's auc: 0.979609\n",
            "[20]\tvalid_0's auc: 0.979591\n",
            "[21]\tvalid_0's auc: 0.979695\n",
            "[22]\tvalid_0's auc: 0.979669\n",
            "[23]\tvalid_0's auc: 0.97966\n",
            "[24]\tvalid_0's auc: 0.979712\n",
            "[25]\tvalid_0's auc: 0.97968\n",
            "[26]\tvalid_0's auc: 0.979673\n",
            "[27]\tvalid_0's auc: 0.979657\n",
            "[28]\tvalid_0's auc: 0.979619\n",
            "[29]\tvalid_0's auc: 0.979608\n",
            "[30]\tvalid_0's auc: 0.979601\n",
            "[31]\tvalid_0's auc: 0.979589\n",
            "[32]\tvalid_0's auc: 0.979611\n",
            "[33]\tvalid_0's auc: 0.979658\n",
            "[34]\tvalid_0's auc: 0.979687\n",
            "[35]\tvalid_0's auc: 0.980185\n",
            "[36]\tvalid_0's auc: 0.980196\n",
            "[37]\tvalid_0's auc: 0.980212\n",
            "[38]\tvalid_0's auc: 0.980208\n",
            "[39]\tvalid_0's auc: 0.980212\n",
            "[40]\tvalid_0's auc: 0.980505\n",
            "[41]\tvalid_0's auc: 0.98051\n",
            "[42]\tvalid_0's auc: 0.980511\n",
            "[43]\tvalid_0's auc: 0.980516\n",
            "[44]\tvalid_0's auc: 0.980509\n",
            "[45]\tvalid_0's auc: 0.980525\n",
            "[46]\tvalid_0's auc: 0.980524\n",
            "[47]\tvalid_0's auc: 0.980521\n",
            "[48]\tvalid_0's auc: 0.98052\n",
            "[49]\tvalid_0's auc: 0.980527\n",
            "[50]\tvalid_0's auc: 0.980527\n",
            "[51]\tvalid_0's auc: 0.980545\n",
            "[52]\tvalid_0's auc: 0.980611\n",
            "[53]\tvalid_0's auc: 0.980614\n",
            "[54]\tvalid_0's auc: 0.980619\n",
            "[55]\tvalid_0's auc: 0.980614\n",
            "[56]\tvalid_0's auc: 0.980623\n",
            "[57]\tvalid_0's auc: 0.980834\n",
            "[58]\tvalid_0's auc: 0.980889\n",
            "[59]\tvalid_0's auc: 0.980907\n",
            "[60]\tvalid_0's auc: 0.980911\n",
            "[61]\tvalid_0's auc: 0.98093\n",
            "[62]\tvalid_0's auc: 0.980951\n",
            "[63]\tvalid_0's auc: 0.980957\n",
            "[64]\tvalid_0's auc: 0.980988\n",
            "[65]\tvalid_0's auc: 0.98099\n",
            "[66]\tvalid_0's auc: 0.981185\n",
            "[67]\tvalid_0's auc: 0.981183\n",
            "[68]\tvalid_0's auc: 0.981213\n",
            "[69]\tvalid_0's auc: 0.981228\n",
            "[70]\tvalid_0's auc: 0.981253\n",
            "[71]\tvalid_0's auc: 0.981259\n",
            "[72]\tvalid_0's auc: 0.981353\n",
            "[73]\tvalid_0's auc: 0.981363\n",
            "[74]\tvalid_0's auc: 0.98138\n",
            "[75]\tvalid_0's auc: 0.9815\n",
            "[76]\tvalid_0's auc: 0.981517\n",
            "[77]\tvalid_0's auc: 0.981545\n",
            "[78]\tvalid_0's auc: 0.981546\n",
            "[79]\tvalid_0's auc: 0.981659\n",
            "[80]\tvalid_0's auc: 0.981678\n",
            "[81]\tvalid_0's auc: 0.981777\n",
            "[82]\tvalid_0's auc: 0.981789\n",
            "[83]\tvalid_0's auc: 0.9818\n",
            "[84]\tvalid_0's auc: 0.981805\n",
            "[85]\tvalid_0's auc: 0.981824\n",
            "[86]\tvalid_0's auc: 0.981847\n",
            "[87]\tvalid_0's auc: 0.981856\n",
            "[88]\tvalid_0's auc: 0.981875\n",
            "[89]\tvalid_0's auc: 0.981886\n",
            "[90]\tvalid_0's auc: 0.981971\n",
            "[91]\tvalid_0's auc: 0.981995\n",
            "[92]\tvalid_0's auc: 0.982005\n",
            "[93]\tvalid_0's auc: 0.982116\n",
            "[94]\tvalid_0's auc: 0.982122\n",
            "[95]\tvalid_0's auc: 0.98214\n",
            "[96]\tvalid_0's auc: 0.98215\n",
            "[97]\tvalid_0's auc: 0.982167\n",
            "[98]\tvalid_0's auc: 0.982173\n",
            "[99]\tvalid_0's auc: 0.982185\n",
            "[100]\tvalid_0's auc: 0.982204\n",
            "Did not meet early stopping. Best iteration is:\n",
            "[100]\tvalid_0's auc: 0.982204\n",
            "============================================================模型训练完成===========================================================================================\n",
            "=========================================================数据准备======================================================================================\n",
            "=========================================================模型训练======================================================================================\n",
            "[101]\tvalid_0's auc: 0.982219\n",
            "Training until validation scores don't improve for 200 rounds.\n",
            "[102]\tvalid_0's auc: 0.982233\n",
            "[103]\tvalid_0's auc: 0.982246\n",
            "[104]\tvalid_0's auc: 0.982401\n",
            "[105]\tvalid_0's auc: 0.982418\n",
            "[106]\tvalid_0's auc: 0.982426\n",
            "[107]\tvalid_0's auc: 0.98243\n",
            "[108]\tvalid_0's auc: 0.982447\n",
            "[109]\tvalid_0's auc: 0.982473\n",
            "[110]\tvalid_0's auc: 0.982475\n",
            "[111]\tvalid_0's auc: 0.982541\n",
            "[112]\tvalid_0's auc: 0.982556\n",
            "[113]\tvalid_0's auc: 0.982561\n",
            "[114]\tvalid_0's auc: 0.982578\n",
            "[115]\tvalid_0's auc: 0.982603\n",
            "[116]\tvalid_0's auc: 0.98261\n",
            "[117]\tvalid_0's auc: 0.982618\n",
            "[118]\tvalid_0's auc: 0.982637\n",
            "[119]\tvalid_0's auc: 0.982653\n",
            "[120]\tvalid_0's auc: 0.982673\n",
            "[121]\tvalid_0's auc: 0.982713\n",
            "[122]\tvalid_0's auc: 0.98272\n",
            "[123]\tvalid_0's auc: 0.982737\n",
            "[124]\tvalid_0's auc: 0.982772\n",
            "[125]\tvalid_0's auc: 0.982782\n",
            "[126]\tvalid_0's auc: 0.98279\n",
            "[127]\tvalid_0's auc: 0.982797\n",
            "[128]\tvalid_0's auc: 0.98281\n",
            "[129]\tvalid_0's auc: 0.982818\n",
            "[130]\tvalid_0's auc: 0.982832\n",
            "[131]\tvalid_0's auc: 0.982836\n",
            "[132]\tvalid_0's auc: 0.98286\n",
            "[133]\tvalid_0's auc: 0.982866\n",
            "[134]\tvalid_0's auc: 0.982886\n",
            "[135]\tvalid_0's auc: 0.982947\n",
            "[136]\tvalid_0's auc: 0.982961\n",
            "[137]\tvalid_0's auc: 0.982982\n",
            "[138]\tvalid_0's auc: 0.982998\n",
            "[139]\tvalid_0's auc: 0.983009\n",
            "[140]\tvalid_0's auc: 0.983064\n",
            "[141]\tvalid_0's auc: 0.98308\n",
            "[142]\tvalid_0's auc: 0.983099\n",
            "[143]\tvalid_0's auc: 0.983107\n",
            "[144]\tvalid_0's auc: 0.98312\n",
            "[145]\tvalid_0's auc: 0.983128\n",
            "[146]\tvalid_0's auc: 0.983139\n",
            "[147]\tvalid_0's auc: 0.983164\n",
            "[148]\tvalid_0's auc: 0.983177\n",
            "[149]\tvalid_0's auc: 0.983188\n",
            "[150]\tvalid_0's auc: 0.983215\n",
            "[151]\tvalid_0's auc: 0.983237\n",
            "[152]\tvalid_0's auc: 0.983254\n",
            "[153]\tvalid_0's auc: 0.983268\n",
            "[154]\tvalid_0's auc: 0.983276\n",
            "[155]\tvalid_0's auc: 0.983285\n",
            "[156]\tvalid_0's auc: 0.983296\n",
            "[157]\tvalid_0's auc: 0.98335\n",
            "[158]\tvalid_0's auc: 0.983425\n",
            "[159]\tvalid_0's auc: 0.983438\n",
            "[160]\tvalid_0's auc: 0.98345\n",
            "[161]\tvalid_0's auc: 0.983462\n",
            "[162]\tvalid_0's auc: 0.983476\n",
            "[163]\tvalid_0's auc: 0.983504\n",
            "[164]\tvalid_0's auc: 0.983521\n",
            "[165]\tvalid_0's auc: 0.983537\n",
            "[166]\tvalid_0's auc: 0.983568\n",
            "[167]\tvalid_0's auc: 0.983576\n",
            "[168]\tvalid_0's auc: 0.983596\n",
            "[169]\tvalid_0's auc: 0.983621\n",
            "[170]\tvalid_0's auc: 0.983633\n",
            "[171]\tvalid_0's auc: 0.983644\n",
            "[172]\tvalid_0's auc: 0.983677\n",
            "[173]\tvalid_0's auc: 0.983698\n",
            "[174]\tvalid_0's auc: 0.983714\n",
            "[175]\tvalid_0's auc: 0.983761\n",
            "[176]\tvalid_0's auc: 0.983786\n",
            "[177]\tvalid_0's auc: 0.983814\n",
            "[178]\tvalid_0's auc: 0.983841\n",
            "[179]\tvalid_0's auc: 0.983882\n",
            "[180]\tvalid_0's auc: 0.983912\n",
            "[181]\tvalid_0's auc: 0.983942\n",
            "[182]\tvalid_0's auc: 0.984006\n",
            "[183]\tvalid_0's auc: 0.984051\n",
            "[184]\tvalid_0's auc: 0.984095\n",
            "[185]\tvalid_0's auc: 0.984145\n",
            "[186]\tvalid_0's auc: 0.984166\n",
            "[187]\tvalid_0's auc: 0.984211\n",
            "[188]\tvalid_0's auc: 0.984227\n",
            "[189]\tvalid_0's auc: 0.984301\n",
            "[190]\tvalid_0's auc: 0.984346\n",
            "[191]\tvalid_0's auc: 0.98437\n",
            "[192]\tvalid_0's auc: 0.98443\n",
            "[193]\tvalid_0's auc: 0.984464\n",
            "[194]\tvalid_0's auc: 0.984497\n",
            "[195]\tvalid_0's auc: 0.984535\n",
            "[196]\tvalid_0's auc: 0.984593\n",
            "[197]\tvalid_0's auc: 0.984647\n",
            "[198]\tvalid_0's auc: 0.98467\n",
            "[199]\tvalid_0's auc: 0.984721\n",
            "[200]\tvalid_0's auc: 0.984759\n",
            "Did not meet early stopping. Best iteration is:\n",
            "[200]\tvalid_0's auc: 0.984759\n",
            "============================================================模型训练完成===========================================================================================\n"
          ],
          "name": "stdout"
        },
        {
          "output_type": "error",
          "ename": "ValueError",
          "evalue": "ignored",
          "traceback": [
            "\u001b[0;31m---------------------------------------------------------------------------\u001b[0m",
            "\u001b[0;31mValueError\u001b[0m                                Traceback (most recent call last)",
            "\u001b[0;32m/usr/local/lib/python3.6/dist-packages/pandas/core/internals/managers.py\u001b[0m in \u001b[0;36mcreate_block_manager_from_blocks\u001b[0;34m(blocks, axes)\u001b[0m\n\u001b[1;32m   1677\u001b[0m                 blocks = [\n\u001b[0;32m-> 1678\u001b[0;31m                     \u001b[0mmake_block\u001b[0m\u001b[0;34m(\u001b[0m\u001b[0mvalues\u001b[0m\u001b[0;34m=\u001b[0m\u001b[0mblocks\u001b[0m\u001b[0;34m[\u001b[0m\u001b[0;36m0\u001b[0m\u001b[0;34m]\u001b[0m\u001b[0;34m,\u001b[0m \u001b[0mplacement\u001b[0m\u001b[0;34m=\u001b[0m\u001b[0mslice\u001b[0m\u001b[0;34m(\u001b[0m\u001b[0;36m0\u001b[0m\u001b[0;34m,\u001b[0m \u001b[0mlen\u001b[0m\u001b[0;34m(\u001b[0m\u001b[0maxes\u001b[0m\u001b[0;34m[\u001b[0m\u001b[0;36m0\u001b[0m\u001b[0;34m]\u001b[0m\u001b[0;34m)\u001b[0m\u001b[0;34m)\u001b[0m\u001b[0;34m)\u001b[0m\u001b[0;34m\u001b[0m\u001b[0;34m\u001b[0m\u001b[0m\n\u001b[0m\u001b[1;32m   1679\u001b[0m                 ]\n",
            "\u001b[0;32m/usr/local/lib/python3.6/dist-packages/pandas/core/internals/blocks.py\u001b[0m in \u001b[0;36mmake_block\u001b[0;34m(values, placement, klass, ndim, dtype, fastpath)\u001b[0m\n\u001b[1;32m   3283\u001b[0m \u001b[0;34m\u001b[0m\u001b[0m\n\u001b[0;32m-> 3284\u001b[0;31m     \u001b[0;32mreturn\u001b[0m \u001b[0mklass\u001b[0m\u001b[0;34m(\u001b[0m\u001b[0mvalues\u001b[0m\u001b[0;34m,\u001b[0m \u001b[0mndim\u001b[0m\u001b[0;34m=\u001b[0m\u001b[0mndim\u001b[0m\u001b[0;34m,\u001b[0m \u001b[0mplacement\u001b[0m\u001b[0;34m=\u001b[0m\u001b[0mplacement\u001b[0m\u001b[0;34m)\u001b[0m\u001b[0;34m\u001b[0m\u001b[0;34m\u001b[0m\u001b[0m\n\u001b[0m\u001b[1;32m   3285\u001b[0m \u001b[0;34m\u001b[0m\u001b[0m\n",
            "\u001b[0;32m/usr/local/lib/python3.6/dist-packages/pandas/core/internals/blocks.py\u001b[0m in \u001b[0;36m__init__\u001b[0;34m(self, values, placement, ndim)\u001b[0m\n\u001b[1;32m   2791\u001b[0m \u001b[0;34m\u001b[0m\u001b[0m\n\u001b[0;32m-> 2792\u001b[0;31m         \u001b[0msuper\u001b[0m\u001b[0;34m(\u001b[0m\u001b[0;34m)\u001b[0m\u001b[0;34m.\u001b[0m\u001b[0m__init__\u001b[0m\u001b[0;34m(\u001b[0m\u001b[0mvalues\u001b[0m\u001b[0;34m,\u001b[0m \u001b[0mndim\u001b[0m\u001b[0;34m=\u001b[0m\u001b[0mndim\u001b[0m\u001b[0;34m,\u001b[0m \u001b[0mplacement\u001b[0m\u001b[0;34m=\u001b[0m\u001b[0mplacement\u001b[0m\u001b[0;34m)\u001b[0m\u001b[0;34m\u001b[0m\u001b[0;34m\u001b[0m\u001b[0m\n\u001b[0m\u001b[1;32m   2793\u001b[0m \u001b[0;34m\u001b[0m\u001b[0m\n",
            "\u001b[0;32m/usr/local/lib/python3.6/dist-packages/pandas/core/internals/blocks.py\u001b[0m in \u001b[0;36m__init__\u001b[0;34m(self, values, placement, ndim)\u001b[0m\n\u001b[1;32m    127\u001b[0m                 \u001b[0;34m\"Wrong number of items passed {val}, placement implies \"\u001b[0m\u001b[0;34m\u001b[0m\u001b[0;34m\u001b[0m\u001b[0m\n\u001b[0;32m--> 128\u001b[0;31m                 \u001b[0;34m\"{mgr}\"\u001b[0m\u001b[0;34m.\u001b[0m\u001b[0mformat\u001b[0m\u001b[0;34m(\u001b[0m\u001b[0mval\u001b[0m\u001b[0;34m=\u001b[0m\u001b[0mlen\u001b[0m\u001b[0;34m(\u001b[0m\u001b[0mself\u001b[0m\u001b[0;34m.\u001b[0m\u001b[0mvalues\u001b[0m\u001b[0;34m)\u001b[0m\u001b[0;34m,\u001b[0m \u001b[0mmgr\u001b[0m\u001b[0;34m=\u001b[0m\u001b[0mlen\u001b[0m\u001b[0;34m(\u001b[0m\u001b[0mself\u001b[0m\u001b[0;34m.\u001b[0m\u001b[0mmgr_locs\u001b[0m\u001b[0;34m)\u001b[0m\u001b[0;34m)\u001b[0m\u001b[0;34m\u001b[0m\u001b[0;34m\u001b[0m\u001b[0m\n\u001b[0m\u001b[1;32m    129\u001b[0m             )\n",
            "\u001b[0;31mValueError\u001b[0m: Wrong number of items passed 1, placement implies 4",
            "\nDuring handling of the above exception, another exception occurred:\n",
            "\u001b[0;31mValueError\u001b[0m                                Traceback (most recent call last)",
            "\u001b[0;32m<ipython-input-15-1077b22c4b3c>\u001b[0m in \u001b[0;36m<module>\u001b[0;34m()\u001b[0m\n\u001b[1;32m     20\u001b[0m   \u001b[0mprint\u001b[0m\u001b[0;34m(\u001b[0m\u001b[0;34m\"============================================================模型训练完成===========================================================================================\"\u001b[0m\u001b[0;34m)\u001b[0m\u001b[0;34m\u001b[0m\u001b[0;34m\u001b[0m\u001b[0m\n\u001b[1;32m     21\u001b[0m \u001b[0mperiod\u001b[0m \u001b[0;34m=\u001b[0m \u001b[0mtime\u001b[0m\u001b[0;34m.\u001b[0m\u001b[0mtime\u001b[0m\u001b[0;34m(\u001b[0m\u001b[0;34m)\u001b[0m\u001b[0;34m\u001b[0m\u001b[0;34m\u001b[0m\u001b[0m\n\u001b[0;32m---> 22\u001b[0;31m \u001b[0mresult\u001b[0m \u001b[0;34m=\u001b[0m \u001b[0mpd\u001b[0m\u001b[0;34m.\u001b[0m\u001b[0mDataFrame\u001b[0m\u001b[0;34m(\u001b[0m\u001b[0mdata\u001b[0m \u001b[0;34m=\u001b[0m \u001b[0;34m[\u001b[0m\u001b[0mperiod\u001b[0m\u001b[0;34m,\u001b[0m\u001b[0mlen\u001b[0m\u001b[0;34m(\u001b[0m\u001b[0mtrain_x\u001b[0m\u001b[0;34m)\u001b[0m\u001b[0;34m,\u001b[0m\u001b[0mparams\u001b[0m\u001b[0;34m[\u001b[0m\u001b[0;34m\"learning_rate\"\u001b[0m\u001b[0;34m]\u001b[0m\u001b[0;34m,\u001b[0m\u001b[0mgbm\u001b[0m\u001b[0;34m.\u001b[0m\u001b[0meval_valid\u001b[0m\u001b[0;34m(\u001b[0m\u001b[0;34m)\u001b[0m\u001b[0;34m]\u001b[0m\u001b[0;34m,\u001b[0m\u001b[0mindex\u001b[0m \u001b[0;34m=\u001b[0m \u001b[0;32mNone\u001b[0m\u001b[0;34m,\u001b[0m\u001b[0mcolumns\u001b[0m\u001b[0;34m=\u001b[0m\u001b[0;34m[\u001b[0m\u001b[0;34m\"time\"\u001b[0m\u001b[0;34m,\u001b[0m\u001b[0;34m\"data_size\"\u001b[0m\u001b[0;34m,\u001b[0m\u001b[0;34m\"learning_rate\"\u001b[0m\u001b[0;34m,\u001b[0m\u001b[0;34m\"valid_eval\"\u001b[0m\u001b[0;34m]\u001b[0m\u001b[0;34m)\u001b[0m\u001b[0;34m\u001b[0m\u001b[0;34m\u001b[0m\u001b[0m\n\u001b[0m\u001b[1;32m     23\u001b[0m \u001b[0mresult\u001b[0m\u001b[0;34m.\u001b[0m\u001b[0mto_csv\u001b[0m\u001b[0;34m(\u001b[0m\u001b[0;34m\"experiment_record.csv\"\u001b[0m\u001b[0;34m,\u001b[0m\u001b[0mmode\u001b[0m \u001b[0;34m=\u001b[0m \u001b[0;34m\"a+\"\u001b[0m\u001b[0;34m)\u001b[0m\u001b[0;34m\u001b[0m\u001b[0;34m\u001b[0m\u001b[0m\n",
            "\u001b[0;32m/usr/local/lib/python3.6/dist-packages/pandas/core/frame.py\u001b[0m in \u001b[0;36m__init__\u001b[0;34m(self, data, index, columns, dtype, copy)\u001b[0m\n\u001b[1;32m    462\u001b[0m                     \u001b[0mmgr\u001b[0m \u001b[0;34m=\u001b[0m \u001b[0marrays_to_mgr\u001b[0m\u001b[0;34m(\u001b[0m\u001b[0marrays\u001b[0m\u001b[0;34m,\u001b[0m \u001b[0mcolumns\u001b[0m\u001b[0;34m,\u001b[0m \u001b[0mindex\u001b[0m\u001b[0;34m,\u001b[0m \u001b[0mcolumns\u001b[0m\u001b[0;34m,\u001b[0m \u001b[0mdtype\u001b[0m\u001b[0;34m=\u001b[0m\u001b[0mdtype\u001b[0m\u001b[0;34m)\u001b[0m\u001b[0;34m\u001b[0m\u001b[0;34m\u001b[0m\u001b[0m\n\u001b[1;32m    463\u001b[0m                 \u001b[0;32melse\u001b[0m\u001b[0;34m:\u001b[0m\u001b[0;34m\u001b[0m\u001b[0;34m\u001b[0m\u001b[0m\n\u001b[0;32m--> 464\u001b[0;31m                     \u001b[0mmgr\u001b[0m \u001b[0;34m=\u001b[0m \u001b[0minit_ndarray\u001b[0m\u001b[0;34m(\u001b[0m\u001b[0mdata\u001b[0m\u001b[0;34m,\u001b[0m \u001b[0mindex\u001b[0m\u001b[0;34m,\u001b[0m \u001b[0mcolumns\u001b[0m\u001b[0;34m,\u001b[0m \u001b[0mdtype\u001b[0m\u001b[0;34m=\u001b[0m\u001b[0mdtype\u001b[0m\u001b[0;34m,\u001b[0m \u001b[0mcopy\u001b[0m\u001b[0;34m=\u001b[0m\u001b[0mcopy\u001b[0m\u001b[0;34m)\u001b[0m\u001b[0;34m\u001b[0m\u001b[0;34m\u001b[0m\u001b[0m\n\u001b[0m\u001b[1;32m    465\u001b[0m             \u001b[0;32melse\u001b[0m\u001b[0;34m:\u001b[0m\u001b[0;34m\u001b[0m\u001b[0;34m\u001b[0m\u001b[0m\n\u001b[1;32m    466\u001b[0m                 \u001b[0mmgr\u001b[0m \u001b[0;34m=\u001b[0m \u001b[0minit_dict\u001b[0m\u001b[0;34m(\u001b[0m\u001b[0;34m{\u001b[0m\u001b[0;34m}\u001b[0m\u001b[0;34m,\u001b[0m \u001b[0mindex\u001b[0m\u001b[0;34m,\u001b[0m \u001b[0mcolumns\u001b[0m\u001b[0;34m,\u001b[0m \u001b[0mdtype\u001b[0m\u001b[0;34m=\u001b[0m\u001b[0mdtype\u001b[0m\u001b[0;34m)\u001b[0m\u001b[0;34m\u001b[0m\u001b[0;34m\u001b[0m\u001b[0m\n",
            "\u001b[0;32m/usr/local/lib/python3.6/dist-packages/pandas/core/internals/construction.py\u001b[0m in \u001b[0;36minit_ndarray\u001b[0;34m(values, index, columns, dtype, copy)\u001b[0m\n\u001b[1;32m    211\u001b[0m         \u001b[0mblock_values\u001b[0m \u001b[0;34m=\u001b[0m \u001b[0;34m[\u001b[0m\u001b[0mvalues\u001b[0m\u001b[0;34m]\u001b[0m\u001b[0;34m\u001b[0m\u001b[0;34m\u001b[0m\u001b[0m\n\u001b[1;32m    212\u001b[0m \u001b[0;34m\u001b[0m\u001b[0m\n\u001b[0;32m--> 213\u001b[0;31m     \u001b[0;32mreturn\u001b[0m \u001b[0mcreate_block_manager_from_blocks\u001b[0m\u001b[0;34m(\u001b[0m\u001b[0mblock_values\u001b[0m\u001b[0;34m,\u001b[0m \u001b[0;34m[\u001b[0m\u001b[0mcolumns\u001b[0m\u001b[0;34m,\u001b[0m \u001b[0mindex\u001b[0m\u001b[0;34m]\u001b[0m\u001b[0;34m)\u001b[0m\u001b[0;34m\u001b[0m\u001b[0;34m\u001b[0m\u001b[0m\n\u001b[0m\u001b[1;32m    214\u001b[0m \u001b[0;34m\u001b[0m\u001b[0m\n\u001b[1;32m    215\u001b[0m \u001b[0;34m\u001b[0m\u001b[0m\n",
            "\u001b[0;32m/usr/local/lib/python3.6/dist-packages/pandas/core/internals/managers.py\u001b[0m in \u001b[0;36mcreate_block_manager_from_blocks\u001b[0;34m(blocks, axes)\u001b[0m\n\u001b[1;32m   1686\u001b[0m         \u001b[0mblocks\u001b[0m \u001b[0;34m=\u001b[0m \u001b[0;34m[\u001b[0m\u001b[0mgetattr\u001b[0m\u001b[0;34m(\u001b[0m\u001b[0mb\u001b[0m\u001b[0;34m,\u001b[0m \u001b[0;34m\"values\"\u001b[0m\u001b[0;34m,\u001b[0m \u001b[0mb\u001b[0m\u001b[0;34m)\u001b[0m \u001b[0;32mfor\u001b[0m \u001b[0mb\u001b[0m \u001b[0;32min\u001b[0m \u001b[0mblocks\u001b[0m\u001b[0;34m]\u001b[0m\u001b[0;34m\u001b[0m\u001b[0;34m\u001b[0m\u001b[0m\n\u001b[1;32m   1687\u001b[0m         \u001b[0mtot_items\u001b[0m \u001b[0;34m=\u001b[0m \u001b[0msum\u001b[0m\u001b[0;34m(\u001b[0m\u001b[0mb\u001b[0m\u001b[0;34m.\u001b[0m\u001b[0mshape\u001b[0m\u001b[0;34m[\u001b[0m\u001b[0;36m0\u001b[0m\u001b[0;34m]\u001b[0m \u001b[0;32mfor\u001b[0m \u001b[0mb\u001b[0m \u001b[0;32min\u001b[0m \u001b[0mblocks\u001b[0m\u001b[0;34m)\u001b[0m\u001b[0;34m\u001b[0m\u001b[0;34m\u001b[0m\u001b[0m\n\u001b[0;32m-> 1688\u001b[0;31m         \u001b[0mconstruction_error\u001b[0m\u001b[0;34m(\u001b[0m\u001b[0mtot_items\u001b[0m\u001b[0;34m,\u001b[0m \u001b[0mblocks\u001b[0m\u001b[0;34m[\u001b[0m\u001b[0;36m0\u001b[0m\u001b[0;34m]\u001b[0m\u001b[0;34m.\u001b[0m\u001b[0mshape\u001b[0m\u001b[0;34m[\u001b[0m\u001b[0;36m1\u001b[0m\u001b[0;34m:\u001b[0m\u001b[0;34m]\u001b[0m\u001b[0;34m,\u001b[0m \u001b[0maxes\u001b[0m\u001b[0;34m,\u001b[0m \u001b[0me\u001b[0m\u001b[0;34m)\u001b[0m\u001b[0;34m\u001b[0m\u001b[0;34m\u001b[0m\u001b[0m\n\u001b[0m\u001b[1;32m   1689\u001b[0m \u001b[0;34m\u001b[0m\u001b[0m\n\u001b[1;32m   1690\u001b[0m \u001b[0;34m\u001b[0m\u001b[0m\n",
            "\u001b[0;32m/usr/local/lib/python3.6/dist-packages/pandas/core/internals/managers.py\u001b[0m in \u001b[0;36mconstruction_error\u001b[0;34m(tot_items, block_shape, axes, e)\u001b[0m\n\u001b[1;32m   1717\u001b[0m         \u001b[0;32mraise\u001b[0m \u001b[0mValueError\u001b[0m\u001b[0;34m(\u001b[0m\u001b[0;34m\"Empty data passed with indices specified.\"\u001b[0m\u001b[0;34m)\u001b[0m\u001b[0;34m\u001b[0m\u001b[0;34m\u001b[0m\u001b[0m\n\u001b[1;32m   1718\u001b[0m     raise ValueError(\n\u001b[0;32m-> 1719\u001b[0;31m         \u001b[0;34m\"Shape of passed values is {0}, indices imply {1}\"\u001b[0m\u001b[0;34m.\u001b[0m\u001b[0mformat\u001b[0m\u001b[0;34m(\u001b[0m\u001b[0mpassed\u001b[0m\u001b[0;34m,\u001b[0m \u001b[0mimplied\u001b[0m\u001b[0;34m)\u001b[0m\u001b[0;34m\u001b[0m\u001b[0;34m\u001b[0m\u001b[0m\n\u001b[0m\u001b[1;32m   1720\u001b[0m     )\n\u001b[1;32m   1721\u001b[0m \u001b[0;34m\u001b[0m\u001b[0m\n",
            "\u001b[0;31mValueError\u001b[0m: Shape of passed values is (4, 1), indices imply (4, 4)"
          ]
        }
      ]
    },
    {
      "cell_type": "code",
      "metadata": {
        "id": "GsvYEAuzwHS0",
        "colab_type": "code",
        "colab": {
          "base_uri": "https://localhost:8080/",
          "height": 313
        },
        "outputId": "39c7b95c-5e72-4a0a-b206-f9e05c3fcb59"
      },
      "source": [
        "# 模型重要性\n",
        "lgb.plot_importance(gbm)"
      ],
      "execution_count": 26,
      "outputs": [
        {
          "output_type": "execute_result",
          "data": {
            "text/plain": [
              "<matplotlib.axes._subplots.AxesSubplot at 0x7f732812d8d0>"
            ]
          },
          "metadata": {
            "tags": []
          },
          "execution_count": 26
        },
        {
          "output_type": "display_data",
          "data": {
            "image/png": "[encoded data removed]",
            "text/plain": [
              "<Figure size 432x288 with 1 Axes>"
            ]
          },
          "metadata": {
            "tags": []
          }
        }
      ]
    },
    {
      "cell_type": "code",
      "metadata": {
        "id": "Fx_ci391E1qD",
        "colab_type": "code",
        "outputId": "8eba886f-b46d-4c04-85ec-ed8a5d60cd4c",
        "colab": {
          "base_uri": "https://localhost:8080/",
          "height": 53
        }
      },
      "source": [
        "# 读取模型和预测test\n",
        "t = time.time()\n",
        "#gbm = None\n",
        "#with open(\"/content/drive/My Drive/lgb_model_v0.txt\",\"r\") as f:\n",
        "#  gbm = lgb.Booster({'model_str':f.read()})\n",
        "pred = gbm.predict(test_df)\n",
        "test_pre = pd.DataFrame(pred, columns=['flag_pred'])\n",
        "print('test_pre runtime:', time.time() - t)\n",
        "sub = pd.concat([test_df_source['hit_id'], test_pre,test_df_source['event_id']], axis=1)\n",
        "#fea_imp_list.append(gbm.feature_importances_)\n",
        "print('runtime:', time.time() - t)"
      ],
      "execution_count": 0,
      "outputs": [
        {
          "output_type": "stream",
          "text": [
            "test_pre runtime: 0.0015943050384521484\n",
            "runtime: 0.043180227279663086\n"
          ],
          "name": "stdout"
        }
      ]
    },
    {
      "cell_type": "code",
      "metadata": {
        "id": "Vchh8iC5FG8u",
        "colab_type": "code",
        "outputId": "3146ff11-e29f-40a3-f3d9-44f7a27fdbdc",
        "colab": {
          "base_uri": "https://localhost:8080/",
          "height": 53
        }
      },
      "source": [
        "# sub.to_csv('drive/My Drive/sub_prob_{}_{}_{}.csv'.format(best_auc, best_f1,sub['flag_pred'].mean()),index=False)\n",
        "best_t = 0.7\n",
        "sub['flag_pred'] = sub['flag_pred'].apply(lambda x: 1 if x >= best_t else 0)\n",
        "sub.to_csv('drive/My Drive/submition_{}_{}.csv'.format(time.asctime( time.localtime(time.time()) ),sub['flag_pred'].mean()),index=False)\n",
        "\n",
        "print('runtime:', time.time() - t)\n",
        "print('finish.')"
      ],
      "execution_count": 0,
      "outputs": [
        {
          "output_type": "stream",
          "text": [
            "runtime: 765.3468747138977\n",
            "finish.\n"
          ],
          "name": "stdout"
        }
      ]
    }
  ]
}